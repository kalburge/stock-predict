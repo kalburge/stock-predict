{
 "cells": [
  {
   "cell_type": "code",
   "execution_count": 4,
   "id": "29ede3a9",
   "metadata": {},
   "outputs": [
    {
     "name": "stderr",
     "output_type": "stream",
     "text": [
      "/Users/ishankalburge/Documents/JOHNS-HOPKINS/3_4SUM23/penn_gold_lab/src/experimental_methods.py:243: RuntimeWarning: invalid value encountered in true_divide\n",
      "  p_0 = ((1-self.epsilon)*self.q*p_d+self.epsilon*(1-self.q)*(1-p_d))/((1-self.epsilon)*self.q*p_d+self.epsilon*(1-self.q)*(1-p_d)\n",
      "/Users/ishankalburge/Documents/JOHNS-HOPKINS/3_4SUM23/penn_gold_lab/src/experimental_methods.py:246: RuntimeWarning: invalid value encountered in true_divide\n",
      "  p_0 = ((1-self.epsilon)*(1-self.q)*p_d+self.epsilon*self.q*(1-p_d))/((1-self.epsilon)*(1-self.q)*p_d+self.epsilon*self.q*(1-p_d)\n",
      "/Users/ishankalburge/Documents/JOHNS-HOPKINS/3_4SUM23/penn_gold_lab/src/experimental_methods.py:252: RuntimeWarning: divide by zero encountered in true_divide\n",
      "  xi = self.sigma**2*np.log(np.outer((1-q), p)/np.outer(q, (1-p)))/(2*self.mu) # Calculate observation xi as a function of p and q\n",
      "/Users/ishankalburge/Documents/JOHNS-HOPKINS/3_4SUM23/penn_gold_lab/src/experimental_methods.py:252: RuntimeWarning: invalid value encountered in true_divide\n",
      "  xi = self.sigma**2*np.log(np.outer((1-q), p)/np.outer(q, (1-p)))/(2*self.mu) # Calculate observation xi as a function of p and q\n",
      "/Users/ishankalburge/Documents/JOHNS-HOPKINS/3_4SUM23/penn_gold_lab/src/experimental_methods.py:252: RuntimeWarning: divide by zero encountered in log\n",
      "  xi = self.sigma**2*np.log(np.outer((1-q), p)/np.outer(q, (1-p)))/(2*self.mu) # Calculate observation xi as a function of p and q\n",
      "/Users/ishankalburge/Documents/JOHNS-HOPKINS/3_4SUM23/penn_gold_lab/src/experimental_methods.py:253: RuntimeWarning: divide by zero encountered in true_divide\n",
      "  dxi = self.sigma**2/(2*self.mu*p*(1-p)) # Calculate derivative of xi for change-of-variables\n",
      "/Users/ishankalburge/Documents/JOHNS-HOPKINS/3_4SUM23/penn_gold_lab/src/experimental_methods.py:254: RuntimeWarning: invalid value encountered in multiply\n",
      "  F = dxi/np.sqrt(2*np.pi*self.sigma**2)*(np.transpose(q)*np.exp(-0.5*((xi-self.mu)/self.sigma)**2)\\\n"
     ]
    },
    {
     "data": {
      "text/plain": [
       "(14.0, 0.8)"
      ]
     },
     "execution_count": 4,
     "metadata": {},
     "output_type": "execute_result"
    },
    {
     "data": {
      "image/png": "[encoded data removed]",
      "text/plain": [
       "<Figure size 432x288 with 1 Axes>"
      ]
     },
     "metadata": {
      "needs_background": "light"
     },
     "output_type": "display_data"
    },
    {
     "data": {
      "image/png": "[encoded data removed]",
      "text/plain": [
       "<Figure size 432x288 with 1 Axes>"
      ]
     },
     "metadata": {
      "needs_background": "light"
     },
     "output_type": "display_data"
    },
    {
     "data": {
      "image/png": "[encoded data removed]",
      "text/plain": [
       "<Figure size 432x288 with 1 Axes>"
      ]
     },
     "metadata": {
      "needs_background": "light"
     },
     "output_type": "display_data"
    }
   ],
   "source": [
    "import numpy as np\n",
    "import experimental_methods as sim\n",
    "import matplotlib.pyplot as plt\n",
    "\n",
    "# Define simulation parameters:\n",
    "N = 14\n",
    "epsilon = 0; q = 1\n",
    "mu = 0.5; sigma = 1\n",
    "R = (100, -100)\n",
    "c = (1, 1)\n",
    "\n",
    "# Create time step vector:\n",
    "t = np.arange(N, 0, -1)\n",
    "\n",
    "# Simulate realization of reward-maximization strategy:\n",
    "block = sim.RewardMax(N, mu, sigma, epsilon, q, R, c)\n",
    "block.experiment_sim()\n",
    "\n",
    "# Plot reward-maximizing thresholds:\n",
    "fig, ax = plt.subplots()\n",
    "ax.plot(t, block.thresh, color='black', label='Decision Thresholds')\n",
    "ax.plot(t, -block.thresh, color='black')\n",
    "ax.set_xlim((N, 1))\n",
    "\n",
    "# Plot belief realization over thresholds:\n",
    "fig, ax = plt.subplots()\n",
    "ax.plot(t, block.belief, linewidth=5)\n",
    "ax.plot(t, block.thresh, 'k', linewidth=5)\n",
    "ax.plot(t, -block.thresh, 'k', linewidth=5)\n",
    "ax.set_xlim((N, 0.8))\n",
    "# ax.set_xticks(np.linspace(N, 1, 4), labels=[])\n",
    "# ax.set_ylim(np.max(np.abs(ax.get_ylim()))*np.array([-1, 1]))\n",
    "# ax.set_yticks(np.linspace(ax.get_ylim()[0], ax.get_ylim()[1], 5), labels=[])\n",
    "# print(ax.get_yticks())\n",
    "# ax.spines[['top', 'right']].set_visible(False)\n",
    "\n",
    "RT_rewarded = block.RT[block.reward == R[0]]\n",
    "RT_punished = block.RT[block.reward == R[1]]\n",
    "choice_rewarded = block.choice[block.reward == R[0]]\n",
    "choice_punished = block.choice[block.reward == R[1]]\n",
    "\n",
    "# Plot action timeseries representation:\n",
    "fig, ax = plt.subplots()\n",
    "if len(RT_rewarded) > 0:\n",
    "    S = ax.stem(RT_rewarded, choice_rewarded, markerfmt='go', linefmt='green')\n",
    "    S[0].set_markersize(10); S[1].set_linewidth(5)\n",
    "\n",
    "if len(RT_punished) > 0:\n",
    "    S = ax.stem(RT_punished, choice_punished, markerfmt='ro', linefmt='red')\n",
    "    S[0].set_markersize(10); S[1].set_linewidth(5)\n",
    "    \n",
    "ax.plot(t, np.zeros_like(t), color='black')\n",
    "ax.set_xlim((N, 0.8))\n",
    "# ax.set_xticks(np.linspace(N, 1, 4), labels=[])\n",
    "# ax.set_yticks([])\n",
    "# ax.spines[['top', 'right', 'left']].set_visible(False)\n"
   ]
  },
  {
   "cell_type": "code",
   "execution_count": null,
   "id": "6125de95",
   "metadata": {},
   "outputs": [],
   "source": []
  }
 ],
 "metadata": {
  "kernelspec": {
   "display_name": "Python 3",
   "language": "python",
   "name": "python3"
  },
  "language_info": {
   "codemirror_mode": {
    "name": "ipython",
    "version": 3
   },
   "file_extension": ".py",
   "mimetype": "text/x-python",
   "name": "python",
   "nbconvert_exporter": "python",
   "pygments_lexer": "ipython3",
   "version": "3.8.8"
  }
 },
 "nbformat": 4,
 "nbformat_minor": 5
}
